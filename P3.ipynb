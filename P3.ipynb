{
 "cells": [
  {
   "cell_type": "code",
   "execution_count": 3,
   "metadata": {
    "collapsed": true
   },
   "outputs": [],
   "source": [
    "import csv\n",
    "import cv2\n",
    "import numpy as np\n",
    "import sys\n",
    "import os\n",
    "import sklearn\n",
    "import matplotlib.pyplot as plt\n",
    "\n",
    "from keras.models import Sequential\n",
    "from keras.layers import Flatten, Dense, Lambda, Cropping2D, Dropout\n",
    "\n",
    "from keras.layers.convolutional import Convolution2D\n",
    "from keras.layers.pooling  import MaxPooling2D\n",
    "\n",
    "from sklearn.model_selection import train_test_split\n",
    "\n",
    "from keras.models import Model\n",
    "\n",
    "import matplotlib.image as mpimg"
   ]
  },
  {
   "cell_type": "code",
   "execution_count": 4,
   "metadata": {},
   "outputs": [
    {
     "name": "stdout",
     "output_type": "stream",
     "text": [
      "loaded  6348  samples from  data\\backward\\driving_log.csv\n",
      "loaded  8036  samples from  data\\default\\driving_log.csv\n",
      "loaded  4723  samples from  data\\forward\\driving_log.csv\n",
      "loaded  1097  samples from  data\\stability\\driving_log.csv\n",
      "Epoch 1/4\n",
      "16163/16163 [==============================] - 33s - loss: 0.0401 - val_loss: 0.0300\n",
      "Epoch 2/4\n",
      "16163/16163 [==============================] - 29s - loss: 0.0262 - val_loss: 0.0347\n",
      "Epoch 3/4\n",
      "16163/16163 [==============================] - 30s - loss: 0.0235 - val_loss: 0.0261\n",
      "Epoch 4/4\n",
      "16163/16163 [==============================] - 30s - loss: 0.0214 - val_loss: 0.0220\n"
     ]
    }
   ],
   "source": [
    "# loads data from .csv file\n",
    "# skips first line if it contains descriptions\n",
    "def load_data(data_csv, skip_first_line):\n",
    "    samples = []\n",
    "    with open(data_csv) as csvfile:\n",
    "        reader = csv.reader(csvfile)\n",
    "        first_line = True\n",
    "        for line in reader:\n",
    "            if first_line and skip_first_line:\n",
    "                first_line = False\n",
    "                continue\n",
    "\n",
    "            # default data was recorded on the unix machine\n",
    "            line[0] = line[0].replace(\"/\", os.sep)\n",
    "            samples.append(line)\n",
    "\n",
    "    print(\"loaded \", len(samples), \" samples from \", data_csv)\n",
    "\n",
    "    return samples\n",
    "\n",
    "\n",
    "# generator for model.fit()\n",
    "def generator(samples, batch_size=32):\n",
    "    num_samples = len(samples)\n",
    "    while 1:  # Loop forever so the generator never terminates\n",
    "        sklearn.utils.shuffle(samples)\n",
    "        for offset in range(0, num_samples, batch_size):\n",
    "            batch_samples = samples[offset:offset + batch_size]\n",
    "\n",
    "            images = []\n",
    "            angles = []\n",
    "            for batch_sample in batch_samples:\n",
    "                batch_sample_paths = batch_sample[0].split(os.sep)\n",
    "                if (len(batch_sample_paths) < 3):\n",
    "                    name = os.path.join(\"data\", \"default\", batch_sample_paths[-2], batch_sample_paths[-1])\n",
    "                else:\n",
    "                    name = os.path.join(\"data\", batch_sample_paths[-3], batch_sample_paths[-2], batch_sample_paths[-1])\n",
    "\n",
    "                center_image = mpimg.imread(name)\n",
    "                center_angle = float(batch_sample[3])\n",
    "                images.append(center_image)\n",
    "                angles.append(center_angle)\n",
    "\n",
    "            X_train = np.array(images)\n",
    "            y_train = np.array(angles)\n",
    "            yield sklearn.utils.shuffle(X_train, y_train)\n",
    "\n",
    "\n",
    "# load the data\n",
    "data_directory = \"data\"\n",
    "\n",
    "samples = []\n",
    "\n",
    "for child in os.listdir(data_directory):\n",
    "    subdata_dir = os.path.join(data_directory, child)\n",
    "    if os.path.isdir(subdata_dir):\n",
    "        subdata_path = os.path.join(subdata_dir, \"driving_log.csv\")\n",
    "        subdata = load_data(subdata_path, child == \"default\")\n",
    "        samples.extend(subdata)\n",
    "\n",
    "train_samples, validation_samples = train_test_split(samples, test_size=0.2)\n",
    "\n",
    "# compile and train the model using the generator function\n",
    "train_generator = generator(train_samples, batch_size=32)\n",
    "validation_generator = generator(validation_samples, batch_size=32)\n",
    "\n",
    "ch, row, col = 3, 160, 320  \n",
    "\n",
    "model = Sequential()\n",
    "\n",
    "# Preprocess incoming data, centered around zero with small standard deviation \n",
    "model.add(Lambda(lambda x: x/127.5 - 1.,\n",
    "        input_shape=(row, col, ch),\n",
    "        output_shape=(row, col, ch)))\n",
    "model.add(Cropping2D(cropping=((70,25),(0,0))))\n",
    "\n",
    "# my Nvidia-based architecture\n",
    "model.add(Convolution2D(24,5,5, subsample=(2,2), activation=\"relu\"))\n",
    "model.add(Convolution2D(36,5,5, subsample=(2,2), activation=\"relu\"))\n",
    "model.add(Convolution2D(48,5,5, subsample=(2,2), activation=\"relu\"))\n",
    "model.add(Convolution2D(64,3,3, activation=\"relu\"))\n",
    "model.add(Convolution2D(64,3,3, activation=\"relu\"))\n",
    "\n",
    "model.add(Flatten())\n",
    "\n",
    "model.add(Dense(1024))\n",
    "model.add(Dropout(0.3))\n",
    "\n",
    "model.add(Dense(256))\n",
    "model.add(Dropout(0.3))\n",
    "\n",
    "model.add(Dense(64))\n",
    "model.add(Dropout(0.3))\n",
    "\n",
    "model.add(Dense(32))\n",
    "model.add(Dense(1))\n",
    "\n",
    "model.compile(loss='mse', optimizer='adam')\n",
    "history_object = model.fit_generator(train_generator, \n",
    "                    samples_per_epoch=len(train_samples),  \n",
    "                    validation_data=validation_generator, \n",
    "                    nb_val_samples=len(validation_samples), \n",
    "                    nb_epoch=4)\n",
    "\n",
    "model.save('model.h5')"
   ]
  },
  {
   "cell_type": "code",
   "execution_count": null,
   "metadata": {
    "collapsed": true
   },
   "outputs": [],
   "source": []
  },
  {
   "cell_type": "code",
   "execution_count": 5,
   "metadata": {},
   "outputs": [
    {
     "name": "stdout",
     "output_type": "stream",
     "text": [
      "dict_keys(['val_loss', 'loss'])\n"
     ]
    },
    {
     "data": {
      "image/png": "[encoded data removed]",
      "text/plain": [
       "<matplotlib.figure.Figure at 0x107339e8>"
      ]
     },
     "metadata": {},
     "output_type": "display_data"
    }
   ],
   "source": [
    "### print the keys contained in the history object\n",
    "print(history_object.history.keys())\n",
    "\n",
    "### plot the training and validation loss for each epoch\n",
    "plt.plot(history_object.history['loss'])\n",
    "plt.plot(history_object.history['val_loss'])\n",
    "plt.title('model mean squared error loss')\n",
    "plt.ylabel('mean squared error loss')\n",
    "plt.xlabel('epoch')\n",
    "plt.legend(['training set', 'validation set'], loc='upper right')\n",
    "plt.show()"
   ]
  },
  {
   "cell_type": "code",
   "execution_count": null,
   "metadata": {
    "collapsed": true
   },
   "outputs": [],
   "source": []
  }
 ],
 "metadata": {
  "anaconda-cloud": {},
  "kernelspec": {
   "display_name": "Python 3",
   "language": "python",
   "name": "python3"
  },
  "language_info": {
   "codemirror_mode": {
    "name": "ipython",
    "version": 3
   },
   "file_extension": ".py",
   "mimetype": "text/x-python",
   "name": "python",
   "nbconvert_exporter": "python",
   "pygments_lexer": "ipython3",
   "version": "3.5.2"
  },
  "widgets": {
   "state": {},
   "version": "1.1.2"
  }
 },
 "nbformat": 4,
 "nbformat_minor": 1
}
